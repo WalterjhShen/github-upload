{
 "cells": [
  {
   "cell_type": "code",
   "execution_count": 8,
   "metadata": {},
   "outputs": [],
   "source": [
    "from autograd import numpy as np\n",
    "\n",
    "csvname = 'datasets/' + 'winequality-white.csv'\n",
    "data = np.loadtxt(csvname,delimiter=';',skiprows=1)\n",
    "\n",
    "x = data[:,0:-1]          # 11 INPUTS\n",
    "y = data[:,-1]            # OUTPUT"
   ]
  },
  {
   "cell_type": "code",
   "execution_count": 9,
   "metadata": {},
   "outputs": [],
   "source": [
    "a = np.corrcoef(data.T)"
   ]
  },
  {
   "cell_type": "code",
   "execution_count": 10,
   "metadata": {},
   "outputs": [],
   "source": [
    "b = []\n",
    "for i in range(11):\n",
    "    b.append(a[i][11])"
   ]
  },
  {
   "cell_type": "code",
   "execution_count": 11,
   "metadata": {},
   "outputs": [],
   "source": [
    "correlation_coefficient = b"
   ]
  },
  {
   "cell_type": "code",
   "execution_count": 12,
   "metadata": {},
   "outputs": [
    {
     "name": "stdout",
     "output_type": "stream",
     "text": [
      "Correlation coefficient between fixed acidity and quality = -0.11366283071301801\n",
      "Correlation coefficient between volatile acidity and quality = -0.1947229689211342\n",
      "Correlation coefficient between citric acid and quality = -0.009209090883975443\n",
      "Correlation coefficient between residual sugar and quality = -0.09757682889469318\n",
      "Correlation coefficient between chlorides and quality = -0.20993441094676057\n",
      "Correlation coefficient between free sulfur dioxide and quality = 0.008158067123436056\n",
      "Correlation coefficient between total sulfur dioxid and quality = -0.1747372175970629\n",
      "Correlation coefficient between density and quality = -0.30712331273473065\n",
      "Correlation coefficient between pH and quality = 0.09942724573666421\n",
      "Correlation coefficient between sulphates acidity and quality = 0.053677877132792075\n",
      "Correlation coefficient between alcohol acidity and quality = 0.4355747154613735\n"
     ]
    }
   ],
   "source": [
    "print('Correlation coefficient between fixed acidity and quality =', b[0])\n",
    "print('Correlation coefficient between volatile acidity and quality =', b[1])\n",
    "print('Correlation coefficient between citric acid and quality =', b[2])\n",
    "print('Correlation coefficient between residual sugar and quality =', b[3])\n",
    "print('Correlation coefficient between chlorides and quality =', b[4])\n",
    "print('Correlation coefficient between free sulfur dioxide and quality =', b[5])\n",
    "print('Correlation coefficient between total sulfur dioxid and quality =', b[6])\n",
    "print('Correlation coefficient between density and quality =', b[7])\n",
    "print('Correlation coefficient between pH and quality =', b[8])\n",
    "print('Correlation coefficient between sulphates acidity and quality =', b[9])\n",
    "print('Correlation coefficient between alcohol acidity and quality =', b[10])"
   ]
  },
  {
   "cell_type": "code",
   "execution_count": null,
   "metadata": {},
   "outputs": [],
   "source": []
  }
 ],
 "metadata": {
  "kernelspec": {
   "display_name": "Python 3",
   "language": "python",
   "name": "python3"
  },
  "language_info": {
   "codemirror_mode": {
    "name": "ipython",
    "version": 3
   },
   "file_extension": ".py",
   "mimetype": "text/x-python",
   "name": "python",
   "nbconvert_exporter": "python",
   "pygments_lexer": "ipython3",
   "version": "3.6.6"
  }
 },
 "nbformat": 4,
 "nbformat_minor": 2
}
