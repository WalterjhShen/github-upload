{
 "cells": [
  {
   "cell_type": "code",
   "execution_count": 1,
   "metadata": {},
   "outputs": [],
   "source": [
    "from autograd import numpy as np\n",
    "from autograd import grad\n",
    "csvname = 'datasets/' + 'winequality-white.csv'\n",
    "data = np.loadtxt(csvname,delimiter=';',skiprows=1)\n",
    "names = np.genfromtxt(csvname,delimiter=';',max_rows=1,dtype='unicode')    #load names of per column\n",
    "\n",
    "x = data[:,0:-1]          # 11 INPUTS\n",
    "y = data[:,-1]            # OUTPUT"
   ]
  },
  {
   "cell_type": "code",
   "execution_count": 2,
   "metadata": {},
   "outputs": [],
   "source": [
    "a = np.corrcoef(data.T)"
   ]
  },
  {
   "cell_type": "code",
   "execution_count": 3,
   "metadata": {},
   "outputs": [
    {
     "name": "stdout",
     "output_type": "stream",
     "text": [
      "Inputs with |coorelation coefficient| larger than 0.1 are considered as major variables.\n",
      "CorrCoef between \"fixed acidity\" and \"quality\" = -0.1136628307130179\n",
      "CorrCoef between \"volatile acidity\" and \"quality\" = -0.19472296892113425\n",
      "CorrCoef between \"chlorides\" and \"quality\" = -0.20993441094676066\n",
      "CorrCoef between \"total sulfur dioxide\" and \"quality\" = -0.1747372175970628\n",
      "CorrCoef between \"density\" and \"quality\" = -0.3071233127347306\n",
      "CorrCoef between \"alcohol\" and \"quality\" = 0.4355747154613733\n"
     ]
    }
   ],
   "source": [
    "b = []\n",
    "idx = []\n",
    "CorrCoef_max = 0.1\n",
    "print('Inputs with |coorelation coefficient| larger than',CorrCoef_max,'are considered as major variables.')\n",
    "for i in range(np.shape(x)[1]):\n",
    "    b.append(a[i][-1])\n",
    "    if np.abs(a[i][-1]) > CorrCoef_max:\n",
    "        idx.append(i)\n",
    "        print('CorrCoef between',names[i],'and',names[-1],'=',a[i][-1])"
   ]
  },
  {
   "cell_type": "code",
   "execution_count": 4,
   "metadata": {},
   "outputs": [],
   "source": [
    "x_refined = data[:,idx]"
   ]
  },
  {
   "cell_type": "code",
   "execution_count": 5,
   "metadata": {},
   "outputs": [
    {
     "data": {
      "text/plain": [
       "array(['\"fixed acidity\"', '\"volatile acidity\"', '\"chlorides\"',\n",
       "       '\"total sulfur dioxide\"', '\"density\"', '\"alcohol\"'], dtype='<U22')"
      ]
     },
     "execution_count": 5,
     "metadata": {},
     "output_type": "execute_result"
    }
   ],
   "source": [
    "names[idx]"
   ]
  },
  {
   "cell_type": "markdown",
   "metadata": {},
   "source": [
    "# Use x_refined and y to do multi-class regression (Jiahong) and classification (Xinyi)"
   ]
  },
  {
   "cell_type": "markdown",
   "metadata": {},
   "source": [
    "## We can simply change # of inputs by tuning CorrCoef_max"
   ]
  },
  {
   "cell_type": "code",
   "execution_count": 6,
   "metadata": {},
   "outputs": [],
   "source": [
    "x_refined = x_refined.T"
   ]
  },
  {
   "cell_type": "code",
   "execution_count": 7,
   "metadata": {},
   "outputs": [
    {
     "data": {
      "text/plain": [
       "array([6., 6., 6., ..., 6., 7., 6.])"
      ]
     },
     "execution_count": 7,
     "metadata": {},
     "output_type": "execute_result"
    }
   ],
   "source": [
    "y"
   ]
  },
  {
   "cell_type": "code",
   "execution_count": 8,
   "metadata": {},
   "outputs": [],
   "source": [
    "x = x_refined"
   ]
  },
  {
   "cell_type": "code",
   "execution_count": 9,
   "metadata": {},
   "outputs": [],
   "source": [
    "# compute C linear combinations of input point, one per classifier\n",
    "def model(x,w):\n",
    "    a = w[0] + np.dot(x.T,w[1:])\n",
    "    return a.T\n",
    "def least_squares(w):    \n",
    "    # compute the least squares cost\n",
    "    cost = np.sum((model(x,w) - y)**2)\n",
    "    return cost/float(np.size(y))\n",
    "def multiclass_perceptron(w,x,y):\n",
    "    matrix = model(x,w)\n",
    "    a = np.max(matrix,axis = 0)\n",
    "    b = matrix[y.astype(int).flatten(),np.arange(np.size(y))]\n",
    "    cost = np.sum(a - b) + 10**-7*np.linalg.norm(w[1:,:],'fro')**2\n",
    "    return cost / np.size(y)\n",
    "lam = 10**(-7)\n",
    "def multiclass_softmax(w,x,y):        \n",
    "    # pre-compute predictions on all points\n",
    "    all_evals = model(x,w)\n",
    "    \n",
    "    # compute softmax across data points\n",
    "    a = np.log(np.sum(np.exp(all_evals),axis = 0)) \n",
    "    \n",
    "    # compute cost in compact form using numpy broadcasting\n",
    "    b = all_evals[y.astype(int).flatten(),np.arange(np.size(y))]\n",
    "    cost = np.sum(a - b)\n",
    "    \n",
    "    # add regularizer\n",
    "    cost = cost + lam*np.linalg.norm(w[1:,:],'fro')**2\n",
    "    \n",
    "    # return average\n",
    "    return cost/float(np.size(y))"
   ]
  },
  {
   "cell_type": "code",
   "execution_count": 91,
   "metadata": {},
   "outputs": [],
   "source": [
    "def misclassification_perceptron(w,x,y):\n",
    "    misclass = 0\n",
    "    matrix = model(x,w)\n",
    "    a = np.max(matrix, axis = 0)\n",
    "    b = matrix[y.astype(int).flatten(),np.arange(np.size(y))]\n",
    "    for i in range(np.size(a)):\n",
    "        if abs(a[i] - b[i]) >0.1:\n",
    "            misclass += 1\n",
    "    return misclass"
   ]
  },
  {
   "cell_type": "code",
   "execution_count": 96,
   "metadata": {},
   "outputs": [],
   "source": [
    "def misclassification_softmax(w,x,y):\n",
    "    misclass = 0\n",
    "    all_evals = model(x,w)\n",
    "    a = np.log(np.sum(np.exp(all_evals),axis = 0))\n",
    "    b = all_evals[y.astype(int).flatten(),np.arange(np.size(y))]\n",
    "    for i in range(np.size(a)):\n",
    "        if abs(a[i] - b[i])>0.5:\n",
    "            misclass += 1\n",
    "    return misclass"
   ]
  },
  {
   "cell_type": "code",
   "execution_count": 78,
   "metadata": {},
   "outputs": [],
   "source": [
    "# gradient descent function - inputs: g (input function), alpha (steplength parameter), max_its (maximum number of iterations), w (initialization)\n",
    "def gradient_descent_perceptron(g,alpha,max_its,w,x,y):\n",
    "    # compute gradient module using autograd\n",
    "    gradient = grad(g)\n",
    "\n",
    "    # run the gradient descent loop\n",
    "    weight_history = [w]           # container for weight history\n",
    "    cost_history = [g(w,x,y)]          # container for corresponding cost function history\n",
    "    misclass_history = [misclassification_perceptron(w,x,y)]\n",
    "    for k in range(max_its):\n",
    "        # evaluate the gradient, store current weights and cost function value\n",
    "        grad_eval = gradient(w*1.0,x,y)\n",
    "\n",
    "        # take gradient descent step\n",
    "        w = w - alpha*grad_eval\n",
    "        \n",
    "        # record weight and cost\n",
    "        weight_history.append(w)\n",
    "        cost_history.append(g(w,x,y))\n",
    "        misclass_history.append(misclassification_perceptron(w,x,y))\n",
    "    return weight_history,cost_history,misclass_history"
   ]
  },
  {
   "cell_type": "code",
   "execution_count": 79,
   "metadata": {},
   "outputs": [],
   "source": [
    "# gradient descent function - inputs: g (input function), alpha (steplength parameter), max_its (maximum number of iterations), w (initialization)\n",
    "def gradient_descent_softmax(g,alpha,max_its,w,x,y):\n",
    "    # compute gradient module using autograd\n",
    "    gradient = grad(g)\n",
    "\n",
    "    # run the gradient descent loop\n",
    "    weight_history = [w]           # container for weight history\n",
    "    cost_history = [g(w,x,y)]          # container for corresponding cost function history\n",
    "    misclass_history = [misclassification_softmax(w,x,y)]\n",
    "    for k in range(max_its):\n",
    "        # evaluate the gradient, store current weights and cost function value\n",
    "        grad_eval = gradient(w*1.0,x,y)\n",
    "\n",
    "        # take gradient descent step\n",
    "        w = w - alpha*grad_eval\n",
    "        \n",
    "        # record weight and cost\n",
    "        weight_history.append(w)\n",
    "        cost_history.append(g(w,x,y))\n",
    "        misclass_history.append(misclassification_softmax(w,x,y))\n",
    "    return weight_history,cost_history,misclass_history"
   ]
  },
  {
   "cell_type": "code",
   "execution_count": 80,
   "metadata": {},
   "outputs": [],
   "source": [
    "def normalize(x):\n",
    "    x_mean = np.mean(x,axis = 1)[:,np.newaxis]\n",
    "    xx = x - x_mean\n",
    "    de = np.sqrt(np.sum(xx**2,axis = 1)[:,np.newaxis] / xx.shape[1]) + 10**-7\n",
    "    return xx / de, de , x_mean"
   ]
  },
  {
   "cell_type": "code",
   "execution_count": 81,
   "metadata": {},
   "outputs": [],
   "source": [
    "x_normalized, de, x_mean = normalize(x)"
   ]
  },
  {
   "cell_type": "code",
   "execution_count": 15,
   "metadata": {},
   "outputs": [
    {
     "data": {
      "image/png": "[encoded data removed]",
      "text/plain": [
       "<Figure size 432x288 with 1 Axes>"
      ]
     },
     "metadata": {
      "needs_background": "light"
     },
     "output_type": "display_data"
    }
   ],
   "source": [
    "# import automatic differentiator to compute gradient module\n",
    "from autograd import grad \n",
    "\n",
    "# gradient descent function \n",
    "def gradient_descent(g,alpha,max_its,w):\n",
    "    # compute gradient module using autograd\n",
    "    gradient = grad(g)\n",
    "\n",
    "    # run the gradient descent loop\n",
    "    weight_history = [w] # weight history container\n",
    "    cost_history = [g(w)] # cost function history container\n",
    "    for k in range(max_its):\n",
    "        # evaluate the gradient\n",
    "        grad_eval = gradient(w)\n",
    "\n",
    "        # take gradient descent step\n",
    "        w = w - alpha*grad_eval\n",
    "        \n",
    "        # record weight and cost\n",
    "        weight_history.append(w)\n",
    "        cost_history.append(g(w))\n",
    "    return weight_history,cost_history\n",
    "\n",
    "import matplotlib.pyplot as plt\n",
    "\n",
    "\n",
    "g = least_squares; w = 0.01*np.random.rand(7,10); max_its = 5; alpha_choice = 10**(-3);\n",
    "weight_history_a,cost_history_a = gradient_descent(g,alpha_choice,max_its,w)\n",
    "\n",
    "plt.plot(cost_history_a)\n",
    "plt.xlabel('step k')\n",
    "plt.ylabel('cost function')\n",
    "plt.show()"
   ]
  },
  {
   "cell_type": "code",
   "execution_count": 97,
   "metadata": {},
   "outputs": [],
   "source": [
    "import matplotlib.pyplot as plt\n",
    "\n",
    "alpha =  1*10**(-3); max_its = 2000\n",
    "g = multiclass_perceptron; w= 0.1*np.random.rand(7,10)\n",
    "weight_history_1,cost_history_1,misclass_history_1 = gradient_descent_perceptron(g,alpha,max_its,w,x_normalized,y)\n",
    "\n",
    "g = multiclass_softmax; w= 0.01*np.random.rand(7,10); alpha =  1\n",
    "weight_history_2,cost_history_2,misclass_history_2 = gradient_descent_softmax(g,alpha,max_its,w,x_normalized,y)\n"
   ]
  },
  {
   "cell_type": "code",
   "execution_count": 98,
   "metadata": {
    "scrolled": false
   },
   "outputs": [
    {
     "data": {
      "image/png": "[encoded data removed]",
      "text/plain": [
       "<Figure size 432x288 with 1 Axes>"
      ]
     },
     "metadata": {
      "needs_background": "light"
     },
     "output_type": "display_data"
    },
    {
     "data": {
      "image/png": "[encoded data removed]",
      "text/plain": [
       "<Figure size 432x288 with 1 Axes>"
      ]
     },
     "metadata": {
      "needs_background": "light"
     },
     "output_type": "display_data"
    }
   ],
   "source": [
    "#plot cost history\n",
    "plt.plot(cost_history_1)\n",
    "plt.xlabel(\"step\")\n",
    "plt.ylabel(\"g(w)\")\n",
    "plt.title(\"Cost History perceptron\")\n",
    "plt.show()\n",
    "\n",
    "plt.plot(cost_history_2)\n",
    "plt.xlabel(\"step\")\n",
    "plt.ylabel(\"g(w)\")\n",
    "plt.title(\"Cost History softmax\")\n",
    "plt.show()\n"
   ]
  },
  {
   "cell_type": "code",
   "execution_count": 99,
   "metadata": {
    "scrolled": false
   },
   "outputs": [
    {
     "data": {
      "image/png": "[encoded data removed]",
      "text/plain": [
       "<Figure size 432x288 with 1 Axes>"
      ]
     },
     "metadata": {
      "needs_background": "light"
     },
     "output_type": "display_data"
    },
    {
     "data": {
      "image/png": "[encoded data removed]",
      "text/plain": [
       "<Figure size 432x288 with 1 Axes>"
      ]
     },
     "metadata": {
      "needs_background": "light"
     },
     "output_type": "display_data"
    }
   ],
   "source": [
    "#plot misclassification history\n",
    "plt.plot(misclass_history_1)\n",
    "plt.xlabel(\"step\")\n",
    "plt.ylabel(\"misclassifications\")\n",
    "plt.title(\"Misclass History perceptron\")\n",
    "plt.show()\n",
    "\n",
    "plt.plot(misclass_history_2)\n",
    "plt.xlabel(\"step\")\n",
    "plt.ylabel(\"misclassification\")\n",
    "plt.title(\"Misclass History softmax\")\n",
    "plt.show()\n"
   ]
  }
 ],
 "metadata": {
  "kernelspec": {
   "display_name": "Python 3",
   "language": "python",
   "name": "python3"
  },
  "language_info": {
   "codemirror_mode": {
    "name": "ipython",
    "version": 3
   },
   "file_extension": ".py",
   "mimetype": "text/x-python",
   "name": "python",
   "nbconvert_exporter": "python",
   "pygments_lexer": "ipython3",
   "version": "3.7.0"
  }
 },
 "nbformat": 4,
 "nbformat_minor": 2
}
